{
 "cells": [
  {
   "attachments": {},
   "cell_type": "markdown",
   "metadata": {
    "dotnet_interactive": {
     "language": "csharp"
    },
    "polyglot_notebook": {
     "kernelName": "csharp"
    }
   },
   "source": [
    "##### 26.2 字符串插值"
   ]
  },
  {
   "cell_type": "code",
   "execution_count": 6,
   "metadata": {
    "dotnet_interactive": {
     "language": "csharp"
    },
    "polyglot_notebook": {
     "kernelName": "csharp"
    },
    "vscode": {
     "languageId": "polyglot-notebook"
    }
   },
   "outputs": [
    {
     "name": "stdout",
     "output_type": "stream",
     "text": [
      "My dog's name is Spot, He is 3 years old.\n",
      "My dog's name is Spot, He is 3 years old.\n",
      "The cost of a ticket to the ballet is ¥100.00\n",
      "Aiden is working on Cold Fusion\n",
      "Aiden is working on Cold Fusion\n"
     ]
    }
   ],
   "source": [
    "string myPet = \"Spot\";\n",
    "int age = 3;\n",
    "// 旧方式的字符串格式化\n",
    "Console.WriteLine(\"My dog's name is {0}, He is {1} years old.\", myPet, age);\n",
    "// 字符串插值\n",
    "Console.WriteLine($\"My dog's name is {myPet}, He is {age} years old.\");\n",
    "// 数字特殊格式\n",
    "double swanLakePrice = 100.0;\n",
    "Console.WriteLine($\"The cost of a ticket to the ballet is {swanLakePrice :C}\");\n",
    "// String.Format示例\n",
    "string name = \"Aiden\";\n",
    "string technology = \"Cold Fusion\";\n",
    "string s1, s2;\n",
    "s1 = String.Format(\"{0} is working on {1}\", name, technology);\n",
    "s2 = String.Format($\"{name} is working on {technology}\");\n",
    "Console.WriteLine(s1);\n",
    "Console.WriteLine(s2);"
   ]
  },
  {
   "attachments": {},
   "cell_type": "markdown",
   "metadata": {
    "dotnet_interactive": {
     "language": "csharp"
    },
    "polyglot_notebook": {
     "kernelName": "csharp"
    }
   },
   "source": [
    "##### 26.3 自动属性初始化语句"
   ]
  },
  {
   "cell_type": "code",
   "execution_count": 15,
   "metadata": {
    "dotnet_interactive": {
     "language": "csharp"
    },
    "polyglot_notebook": {
     "kernelName": "csharp"
    },
    "vscode": {
     "languageId": "polyglot-notebook"
    }
   },
   "outputs": [
    {
     "name": "stdout",
     "output_type": "stream",
     "text": [
      "12.3\n",
      "23.4\n",
      "34.5\n",
      "45.6\n"
     ]
    }
   ],
   "source": [
    "// 常规自动属性初始化\n",
    "public double Length {get; set;} = 12.3;\n",
    "Console.WriteLine(Length);\n",
    "// 使用private修饰的setter\n",
    "public double Length1 {get; private set;} = 23.4;\n",
    "Console.WriteLine(Length1);\n",
    "// 只读属性,不能对Length2单独赋值\n",
    "public double Length2 {get;} = 34.5;\n",
    "Console.WriteLine(Length2);\n",
    "// 使用可解析为字面量的表达式初始化\n",
    "const double myConstant = 45.1;\n",
    "public double Length3 {get; set;} = myConstant + .5;\n",
    "Console.WriteLine(Length3);"
   ]
  },
  {
   "attachments": {},
   "cell_type": "markdown",
   "metadata": {
    "dotnet_interactive": {
     "language": "csharp"
    },
    "polyglot_notebook": {
     "kernelName": "csharp"
    }
   },
   "source": [
    "- 初始化语句不能引用非静态的属性、字段或方法；\n",
    "    - 需要在VS环境中测试，vscode下可以正常运行"
   ]
  },
  {
   "cell_type": "code",
   "execution_count": 16,
   "metadata": {
    "dotnet_interactive": {
     "language": "csharp"
    },
    "polyglot_notebook": {
     "kernelName": "csharp"
    },
    "vscode": {
     "languageId": "polyglot-notebook"
    }
   },
   "outputs": [
    {
     "name": "stdout",
     "output_type": "stream",
     "text": [
      "56.7\r\n"
     ]
    }
   ],
   "source": [
    "// 编译错误\n",
    "private double myConstant = 56.7;\n",
    "public double Length4 {get; set;} = myConstant;\n",
    "// 编译错误\n",
    "private double myProperty {get; set;} = 67.8;\n",
    "public double Length5 {get; set;} = myProperty;"
   ]
  },
  {
   "attachments": {},
   "cell_type": "markdown",
   "metadata": {
    "dotnet_interactive": {
     "language": "csharp"
    },
    "polyglot_notebook": {
     "kernelName": "csharp"
    }
   },
   "source": [
    "- 集合是自动属性初始化的最佳例子"
   ]
  },
  {
   "cell_type": "code",
   "execution_count": 1,
   "metadata": {
    "dotnet_interactive": {
     "language": "csharp"
    },
    "polyglot_notebook": {
     "kernelName": "csharp"
    },
    "vscode": {
     "languageId": "polyglot-notebook"
    }
   },
   "outputs": [],
   "source": [
    "// 集合初始化后可正常使用\n",
    "public List<double> Areas {get; set;} = new List<double>();\n",
    "Areas.Add(111);"
   ]
  },
  {
   "attachments": {},
   "cell_type": "markdown",
   "metadata": {
    "dotnet_interactive": {
     "language": "csharp"
    },
    "polyglot_notebook": {
     "kernelName": "csharp"
    }
   },
   "source": [
    "- 结构体中的静态属性也可以使用自动属性初始化语句"
   ]
  },
  {
   "cell_type": "code",
   "execution_count": null,
   "metadata": {
    "dotnet_interactive": {
     "language": "csharp"
    },
    "polyglot_notebook": {
     "kernelName": "csharp"
    },
    "vscode": {
     "languageId": "polyglot-notebook"
    }
   },
   "outputs": [],
   "source": [
    "struct MyStruct\n",
    "{\n",
    "    static double Length {get; set;} = 12.3;\n",
    "    //double Length2 {get; set;} = 12.3;   // 非静态，编译错误\n",
    "}"
   ]
  },
  {
   "attachments": {},
   "cell_type": "markdown",
   "metadata": {
    "dotnet_interactive": {
     "language": "csharp"
    },
    "polyglot_notebook": {
     "kernelName": "csharp"
    }
   },
   "source": [
    "##### 26.5 表达式函数体成员"
   ]
  },
  {
   "cell_type": "code",
   "execution_count": 4,
   "metadata": {
    "dotnet_interactive": {
     "language": "csharp"
    },
    "polyglot_notebook": {
     "kernelName": "csharp"
    },
    "vscode": {
     "languageId": "polyglot-notebook"
    }
   },
   "outputs": [
    {
     "name": "stdout",
     "output_type": "stream",
     "text": [
      "Sonoma County\r\n"
     ]
    }
   ],
   "source": [
    "// 方法声明：方法体语法\n",
    "public string GetWineGrowingRegion(string countryName, string regionName)\n",
    "{\n",
    "    return countryName + \":\" + regionName; \n",
    "}\n",
    "// 方法声明：表达式函数体\n",
    "public string GetWineGrowingRegion1(string countaryName, string regionName) \n",
    "    => countaryName + \":\" + regionName;\n",
    "// 只读属性的例子\n",
    "public string MyFavoriteWineGrowingRegion => \"Sonoma County\";"
   ]
  },
  {
   "cell_type": "code",
   "execution_count": 5,
   "metadata": {
    "dotnet_interactive": {
     "language": "csharp"
    },
    "polyglot_notebook": {
     "kernelName": "csharp"
    },
    "vscode": {
     "languageId": "polyglot-notebook"
    }
   },
   "outputs": [
    {
     "data": {
      "text/plain": [
       "(408) 418-428"
      ]
     },
     "metadata": {},
     "output_type": "display_data"
    }
   ],
   "source": [
    "public int AreaCode {get; set;} = 408;\n",
    "public int CentralOfficeCode {get; set;} = 418;\n",
    "public int LineNumber {get; set;} = 428;\n",
    "\n",
    "// 不能同时使用访问器列表和表达式函数体\n",
    "//public string PhoneNumber {get;}\n",
    "//    => $\"({AreaCode}) {CentralOfficeCode}-{LineNumber}\";\n",
    "\n",
    "// 正确执行\n",
    "public string PhoneNumber1\n",
    "    => $\"({AreaCode}) {CentralOfficeCode}-{LineNumber}\";"
   ]
  },
  {
   "attachments": {},
   "cell_type": "markdown",
   "metadata": {
    "dotnet_interactive": {
     "language": "csharp"
    },
    "polyglot_notebook": {
     "kernelName": "csharp"
    }
   },
   "source": [
    "##### 26.6 using static"
   ]
  },
  {
   "cell_type": "code",
   "execution_count": 6,
   "metadata": {
    "dotnet_interactive": {
     "language": "csharp"
    },
    "polyglot_notebook": {
     "kernelName": "csharp"
    },
    "vscode": {
     "languageId": "polyglot-notebook"
    }
   },
   "outputs": [
    {
     "name": "stdout",
     "output_type": "stream",
     "text": [
      "Hello\r\n"
     ]
    }
   ],
   "source": [
    "// Console类的静态成员WriteLine\n",
    "using System;   // System是命名空间\n",
    "Console.WriteLine(\"Hello\");   // Console是类名"
   ]
  },
  {
   "cell_type": "code",
   "execution_count": 7,
   "metadata": {
    "dotnet_interactive": {
     "language": "csharp"
    },
    "polyglot_notebook": {
     "kernelName": "csharp"
    },
    "vscode": {
     "languageId": "polyglot-notebook"
    }
   },
   "outputs": [
    {
     "name": "stdout",
     "output_type": "stream",
     "text": [
      "Hello\r\n"
     ]
    }
   ],
   "source": [
    "// using static 用法\n",
    "using static System.Console;\n",
    "WriteLine(\"Hello\");   // 不需要类名了"
   ]
  },
  {
   "cell_type": "code",
   "execution_count": null,
   "metadata": {
    "dotnet_interactive": {
     "language": "csharp"
    },
    "polyglot_notebook": {
     "kernelName": "csharp"
    },
    "vscode": {
     "languageId": "polyglot-notebook"
    }
   },
   "outputs": [],
   "source": [
    "// 常规枚举使用方式\n",
    "DateTime day = new DateTime(2023,01,27);\n",
    "if (day.DayOfWeek == DayOfWeek.Monday || day.DayOfWeek == DayOfWeek.Thursday)\n",
    "{\n",
    "    // ...\n",
    "}"
   ]
  },
  {
   "cell_type": "code",
   "execution_count": null,
   "metadata": {
    "dotnet_interactive": {
     "language": "csharp"
    },
    "polyglot_notebook": {
     "kernelName": "csharp"
    },
    "vscode": {
     "languageId": "polyglot-notebook"
    }
   },
   "outputs": [],
   "source": [
    "// 使用using static语句,简化枚举使用\n",
    "using static System.DayOfWeek;\n",
    "DateTime day = new DateTime(2023,01,27);\n",
    "if (day.DayOfWeek == Monday ||\n",
    "    day.DayOfWeek == Thursday)\n",
    "{\n",
    "    // ...\n",
    "}"
   ]
  },
  {
   "attachments": {},
   "cell_type": "markdown",
   "metadata": {
    "dotnet_interactive": {
     "language": "csharp"
    },
    "polyglot_notebook": {
     "kernelName": "csharp"
    }
   },
   "source": [
    "##### 26.7 空条件运算符"
   ]
  },
  {
   "cell_type": "code",
   "execution_count": 10,
   "metadata": {
    "dotnet_interactive": {
     "language": "csharp"
    },
    "polyglot_notebook": {
     "kernelName": "csharp"
    },
    "vscode": {
     "languageId": "polyglot-notebook"
    }
   },
   "outputs": [],
   "source": [
    "class Student {}\n",
    "Student[] students = null;\n",
    "//int count = students.Length;   // 产生异常\n",
    "//Student firstStu = students[0];   // 产生异常"
   ]
  },
  {
   "cell_type": "code",
   "execution_count": 12,
   "metadata": {
    "dotnet_interactive": {
     "language": "csharp"
    },
    "polyglot_notebook": {
     "kernelName": "csharp"
    },
    "vscode": {
     "languageId": "polyglot-notebook"
    }
   },
   "outputs": [
    {
     "name": "stdout",
     "output_type": "stream",
     "text": [
      "\r\n"
     ]
    }
   ],
   "source": [
    "// 使用空条件运算符避免空引用异常\n",
    "int? count = students?.Length;\n",
    "Student firstStu = students?[0];"
   ]
  },
  {
   "attachments": {},
   "cell_type": "markdown",
   "metadata": {
    "dotnet_interactive": {
     "language": "csharp"
    },
    "polyglot_notebook": {
     "kernelName": "csharp"
    }
   },
   "source": [
    "##### 26.9 nameof 运算符"
   ]
  },
  {
   "cell_type": "code",
   "execution_count": null,
   "metadata": {
    "dotnet_interactive": {
     "language": "csharp"
    },
    "polyglot_notebook": {
     "kernelName": "csharp"
    },
    "vscode": {
     "languageId": "polyglot-notebook"
    }
   },
   "outputs": [],
   "source": [
    "// 常规打印函数名的方法\n",
    "static void SomeMethod()\n",
    "{\n",
    "    WriteLine($\"SomeMethod:Entering\");\n",
    "    // ...\n",
    "    WriteLine($\"SomeMethod:Exiting\");\n",
    "}\n",
    "// 当方法被重命名后，方法名称和输出的字符串不再匹配\n",
    "// 使用nameof运算符，重命名操作会自动修改nameof参数，保证一致\n",
    "static void SomeMethod1()\n",
    "{\n",
    "    WriteLine($\"{nameof(SomeMethod1)}:Entering\");\n",
    "    // ...\n",
    "    WriteLine($\"{nameof(SomeMethod1)}:Exiting\");\n",
    "}"
   ]
  },
  {
   "attachments": {},
   "cell_type": "markdown",
   "metadata": {
    "dotnet_interactive": {
     "language": "csharp"
    },
    "polyglot_notebook": {
     "kernelName": "csharp"
    },
    "vscode": {
     "languageId": "polyglot-notebook"
    }
   },
   "source": [
    "##### 26.14 值元组"
   ]
  },
  {
   "cell_type": "code",
   "execution_count": 1,
   "metadata": {
    "dotnet_interactive": {
     "language": "csharp"
    },
    "polyglot_notebook": {
     "kernelName": "csharp"
    },
    "vscode": {
     "languageId": "polyglot-notebook"
    }
   },
   "outputs": [
    {
     "name": "stdout",
     "output_type": "stream",
     "text": [
      "Name: Paul Age:99\r\n"
     ]
    }
   ],
   "source": [
    "// 元组示例\n",
    "(string, int)CreateSampleTuple()\n",
    "{\n",
    "    return (\"Paul\", 99);\n",
    "}\n",
    "var myTuple = CreateSampleTuple();\n",
    "Console.WriteLine($\"Name: {myTuple.Item1} Age:{myTuple.Item2}\");"
   ]
  },
  {
   "cell_type": "code",
   "execution_count": null,
   "metadata": {
    "dotnet_interactive": {
     "language": "csharp"
    },
    "polyglot_notebook": {
     "kernelName": "csharp"
    },
    "vscode": {
     "languageId": "polyglot-notebook"
    }
   },
   "outputs": [],
   "source": []
  },
  {
   "cell_type": "code",
   "execution_count": null,
   "metadata": {
    "dotnet_interactive": {
     "language": "csharp"
    },
    "polyglot_notebook": {
     "kernelName": "csharp"
    },
    "vscode": {
     "languageId": "polyglot-notebook"
    }
   },
   "outputs": [],
   "source": []
  }
 ],
 "metadata": {
  "kernelspec": {
   "display_name": ".NET (C#)",
   "language": "C#",
   "name": ".net-csharp"
  },
  "polyglot_notebook": {
   "kernelInfo": {
    "defaultKernelName": "csharp",
    "items": [
     {
      "aliases": [
       "c#",
       "C#"
      ],
      "languageName": "C#",
      "name": "csharp"
     },
     {
      "aliases": [],
      "languageName": "HTML",
      "name": "html"
     },
     {
      "aliases": [
       "frontend"
      ],
      "name": "vscode"
     },
     {
      "aliases": [],
      "languageName": "KQL",
      "name": "kql"
     },
     {
      "aliases": [],
      "name": ".NET"
     },
     {
      "aliases": [
       "f#",
       "F#"
      ],
      "languageName": "F#",
      "name": "fsharp"
     },
     {
      "aliases": [],
      "languageName": "Mermaid",
      "name": "mermaid"
     },
     {
      "aliases": [
       "powershell"
      ],
      "languageName": "PowerShell",
      "name": "pwsh"
     },
     {
      "aliases": [],
      "languageName": "SQL",
      "name": "sql"
     },
     {
      "aliases": [],
      "name": "value"
     }
    ]
   }
  }
 },
 "nbformat": 4,
 "nbformat_minor": 2
}
