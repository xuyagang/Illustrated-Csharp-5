{
 "cells": [
  {
   "attachments": {},
   "cell_type": "markdown",
   "metadata": {
    "dotnet_interactive": {
     "language": "csharp"
    },
    "polyglot_notebook": {
     "kernelName": "csharp"
    }
   },
   "source": [
    "##### 26.2 字符串插值"
   ]
  },
  {
   "cell_type": "code",
   "execution_count": 6,
   "metadata": {
    "dotnet_interactive": {
     "language": "csharp"
    },
    "polyglot_notebook": {
     "kernelName": "csharp"
    },
    "vscode": {
     "languageId": "polyglot-notebook"
    }
   },
   "outputs": [
    {
     "name": "stdout",
     "output_type": "stream",
     "text": [
      "My dog's name is Spot, He is 3 years old.\n",
      "My dog's name is Spot, He is 3 years old.\n",
      "The cost of a ticket to the ballet is ¥100.00\n",
      "Aiden is working on Cold Fusion\n",
      "Aiden is working on Cold Fusion\n"
     ]
    }
   ],
   "source": [
    "string myPet = \"Spot\";\n",
    "int age = 3;\n",
    "// 旧方式的字符串格式化\n",
    "Console.WriteLine(\"My dog's name is {0}, He is {1} years old.\", myPet, age);\n",
    "// 字符串插值\n",
    "Console.WriteLine($\"My dog's name is {myPet}, He is {age} years old.\");\n",
    "// 数字特殊格式\n",
    "double swanLakePrice = 100.0;\n",
    "Console.WriteLine($\"The cost of a ticket to the ballet is {swanLakePrice :C}\");\n",
    "// String.Format示例\n",
    "string name = \"Aiden\";\n",
    "string technology = \"Cold Fusion\";\n",
    "string s1, s2;\n",
    "s1 = String.Format(\"{0} is working on {1}\", name, technology);\n",
    "s2 = String.Format($\"{name} is working on {technology}\");\n",
    "Console.WriteLine(s1);\n",
    "Console.WriteLine(s2);"
   ]
  },
  {
   "attachments": {},
   "cell_type": "markdown",
   "metadata": {
    "dotnet_interactive": {
     "language": "csharp"
    },
    "polyglot_notebook": {
     "kernelName": "csharp"
    }
   },
   "source": [
    "##### 26.3 自动属性初始化语句"
   ]
  },
  {
   "cell_type": "code",
   "execution_count": 15,
   "metadata": {
    "dotnet_interactive": {
     "language": "csharp"
    },
    "polyglot_notebook": {
     "kernelName": "csharp"
    },
    "vscode": {
     "languageId": "polyglot-notebook"
    }
   },
   "outputs": [
    {
     "name": "stdout",
     "output_type": "stream",
     "text": [
      "12.3\n",
      "23.4\n",
      "34.5\n",
      "45.6\n"
     ]
    }
   ],
   "source": [
    "// 常规自动属性初始化\n",
    "public double Length {get; set;} = 12.3;\n",
    "Console.WriteLine(Length);\n",
    "// 使用private修饰的setter\n",
    "public double Length1 {get; private set;} = 23.4;\n",
    "Console.WriteLine(Length1);\n",
    "// 只读属性,不能对Length2单独赋值\n",
    "public double Length2 {get;} = 34.5;\n",
    "Console.WriteLine(Length2);\n",
    "// 使用可解析为字面量的表达式初始化\n",
    "const double myConstant = 45.1;\n",
    "public double Length3 {get; set;} = myConstant + .5;\n",
    "Console.WriteLine(Length3);"
   ]
  },
  {
   "attachments": {},
   "cell_type": "markdown",
   "metadata": {
    "dotnet_interactive": {
     "language": "csharp"
    },
    "polyglot_notebook": {
     "kernelName": "csharp"
    }
   },
   "source": [
    "- 初始化语句不能引用非静态的属性、字段或方法；\n",
    "    - 需要在VS环境中测试，vscode下可以正常运行"
   ]
  },
  {
   "cell_type": "code",
   "execution_count": 16,
   "metadata": {
    "dotnet_interactive": {
     "language": "csharp"
    },
    "polyglot_notebook": {
     "kernelName": "csharp"
    },
    "vscode": {
     "languageId": "polyglot-notebook"
    }
   },
   "outputs": [
    {
     "name": "stdout",
     "output_type": "stream",
     "text": [
      "56.7\r\n"
     ]
    }
   ],
   "source": [
    "// 编译错误\n",
    "private double myConstant = 56.7;\n",
    "public double Length4 {get; set;} = myConstant;\n",
    "// 编译错误\n",
    "private double myProperty {get; set;} = 67.8;\n",
    "public double Length5 {get; set;} = myProperty;"
   ]
  },
  {
   "attachments": {},
   "cell_type": "markdown",
   "metadata": {
    "dotnet_interactive": {
     "language": "csharp"
    },
    "polyglot_notebook": {
     "kernelName": "csharp"
    }
   },
   "source": [
    "- 集合是自动属性初始化的最佳例子"
   ]
  },
  {
   "cell_type": "code",
   "execution_count": 20,
   "metadata": {
    "dotnet_interactive": {
     "language": "csharp"
    },
    "polyglot_notebook": {
     "kernelName": "csharp"
    },
    "vscode": {
     "languageId": "polyglot-notebook"
    }
   },
   "outputs": [
    {
     "data": {
      "text/html": [
       "<div class=\"dni-plaintext\"><pre>1</pre></div><style>\r\n",
       ".dni-code-hint {\r\n",
       "    font-style: italic;\r\n",
       "    overflow: hidden;\r\n",
       "    white-space: nowrap;\r\n",
       "}\r\n",
       ".dni-treeview {\r\n",
       "    white-space: nowrap;\r\n",
       "}\r\n",
       ".dni-treeview td {\r\n",
       "    vertical-align: top;\r\n",
       "    text-align: start;\r\n",
       "}\r\n",
       "details.dni-treeview {\r\n",
       "    padding-left: 1em;\r\n",
       "}\r\n",
       "table td {\r\n",
       "    text-align: start;\r\n",
       "}\r\n",
       "table tr { \r\n",
       "    vertical-align: top; \r\n",
       "    margin: 0em 0px;\r\n",
       "}\r\n",
       "table tr td pre \r\n",
       "{ \r\n",
       "    vertical-align: top !important; \r\n",
       "    margin: 0em 0px !important;\r\n",
       "} \r\n",
       "table th {\r\n",
       "    text-align: start;\r\n",
       "}\r\n",
       "</style>"
      ]
     },
     "metadata": {},
     "output_type": "display_data"
    }
   ],
   "source": [
    "// 集合初始化后可正常使用\n",
    "public List<double> Areas {get; set;} = new List<double>();\n",
    "Areas.Add(111);"
   ]
  },
  {
   "attachments": {},
   "cell_type": "markdown",
   "metadata": {
    "dotnet_interactive": {
     "language": "csharp"
    },
    "polyglot_notebook": {
     "kernelName": "csharp"
    }
   },
   "source": [
    "- 结构体中的静态属性也可以使用自动属性初始化语句"
   ]
  },
  {
   "cell_type": "code",
   "execution_count": null,
   "metadata": {
    "dotnet_interactive": {
     "language": "csharp"
    },
    "polyglot_notebook": {
     "kernelName": "csharp"
    },
    "vscode": {
     "languageId": "polyglot-notebook"
    }
   },
   "outputs": [],
   "source": [
    "struct MyStruct\n",
    "{\n",
    "    static double Length {get; set;} = 12.3;\n",
    "    //double Length2 {get; set;} = 12.3;   // 非静态，编译错误\n",
    "}"
   ]
  }
 ],
 "metadata": {
  "kernelspec": {
   "display_name": ".NET (C#)",
   "language": "C#",
   "name": ".net-csharp"
  },
  "polyglot_notebook": {
   "kernelInfo": {
    "defaultKernelName": "csharp",
    "items": [
     {
      "aliases": [
       "c#",
       "C#"
      ],
      "languageName": "C#",
      "name": "csharp"
     },
     {
      "aliases": [],
      "languageName": "HTML",
      "name": "html"
     },
     {
      "aliases": [
       "frontend"
      ],
      "languageName": null,
      "name": "vscode"
     },
     {
      "aliases": [],
      "languageName": "KQL",
      "name": "kql"
     }
    ]
   }
  }
 },
 "nbformat": 4,
 "nbformat_minor": 2
}
